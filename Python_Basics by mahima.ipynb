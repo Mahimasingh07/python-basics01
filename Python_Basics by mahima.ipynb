{
  "nbformat": 4,
  "nbformat_minor": 0,
  "metadata": {
    "colab": {
      "provenance": []
    },
    "kernelspec": {
      "name": "python3",
      "display_name": "Python 3"
    },
    "language_info": {
      "name": "python"
    }
  },
  "cells": [
    {
      "cell_type": "markdown",
      "source": [
        "#  What is Python, and why is it popular?\n",
        "   - Python is a high-level,genral purpose programming language known for its readability and versatility.It was first devloped by Guido Van Rossum.\n",
        "   python is used on a large scale because-\n",
        "   1. Versatility-Python can be used for a wide range of applications,including web devlopment,data science,machine learning,AI and automation.\n",
        "   2. It's easy to give instructions to the computer by programming python.\n",
        "   3. Extensive libraries- Python has very rich ecosytem of libraries that provides pre-built code for various tasks this saves lots of time and efforts.\n",
        "   4.By using python we can make user friendly programming softwares.\n",
        "   5. Cross-platform compatibility- Pythons programme can run on different operating systems- including windows,macOS,linux etc.\n",
        "   6. Large and active community- Python has a massive and active community of devlopers who contribute to its growth and provide support.\n",
        "# What is an interpreter in Python?\n",
        "  - Interpreter is a programme that reads pythons code line by line and execute it directly without creating a separate, standalone executable file like compiler."
      ],
      "metadata": {
        "id": "7S29vlcwcWRw"
      }
    },
    {
      "cell_type": "markdown",
      "source": [],
      "metadata": {
        "id": "YhQWG8mjy2ad"
      }
    },
    {
      "cell_type": "markdown",
      "source": [
        "# What are pre-defined keywords in Python?\n",
        "  - Keywords are reserved words in python that have special meanings and can't be used as identifiers.\n",
        "  example of keywords- if,else,while,for,def,class,import,try,except,return,true,false etc.\n",
        "# Can keywords be used as variable names?\n",
        "  - keywords cannot be used as variable names.keywords are reserved words with special meaning within the python language.they define the syntax and structure of the code. if we try to use keywords as variable name, python will gave a syntax error.\n",
        "# What is mutability in Python?\n",
        "  - Python has the ability to change the value of an object after creating.\n",
        "  mutable objects- such as lists and dictionaries, can be modified after creation.\n",
        "# Why are lists mutable, but tuples are immutable?\n",
        "  -Lists are mutable because they can be modify elements within a list after creating.On the other hand Tuples are immutable because of they cannot be modify, remove or change elements after creating a tuple.\n",
        "  1. Lists provide flexibility when you need to dynamically modify a collection of data.while tuples can be more efficient in terms of memory usage and performance in dictionaries or as elements in sets.\n",
        "  2. Tuples are immutable,their hash value remains constant.\n",
        "# What is the difference between “==” and “is” operators in Python?\n",
        "-In python,'Equality'and'is' both operators are uesd for comparison.\n",
        "Equality operator(==): it compares the values of the operands and checks if the two operands have the same value.Aslo returns true if the values are equal, otherwise false."
      ],
      "metadata": {
        "id": "qSwhyrZtxeiX"
      }
    },
    {
      "cell_type": "code",
      "source": [
        "a={2,2,3}\n",
        "b={2,2,3}\n",
        "print(a==b)\n"
      ],
      "metadata": {
        "colab": {
          "base_uri": "https://localhost:8080/"
        },
        "id": "5bklLo0G6HNl",
        "outputId": "ea46822b-9078-45f0-846c-01ecd57366e1"
      },
      "execution_count": null,
      "outputs": [
        {
          "output_type": "stream",
          "name": "stdout",
          "text": [
            "True\n"
          ]
        }
      ]
    },
    {
      "cell_type": "markdown",
      "source": [
        "\"Is(identity operator)\"- It compares the object identities of the operands and checks if the two operands refer to the same object in memory.Also return True if they refer to the same object otherwise false."
      ],
      "metadata": {
        "id": "mvKvxioq6qB8"
      }
    },
    {
      "cell_type": "code",
      "source": [
        "a=[5,0,7]\n",
        "b=[5,0,7]\n",
        "print(a is b)"
      ],
      "metadata": {
        "colab": {
          "base_uri": "https://localhost:8080/"
        },
        "id": "bbHmjKh475fM",
        "outputId": "5eee9f08-2c33-4caf-a374-a1f6491488ee"
      },
      "execution_count": null,
      "outputs": [
        {
          "output_type": "stream",
          "name": "stdout",
          "text": [
            "False\n"
          ]
        }
      ]
    },
    {
      "cell_type": "markdown",
      "source": [
        "# What are logical operators in Python?\n",
        "  - logical operator are used to combine or negate boolean expressions.These are essential for controlling the flow of your code based on multiple conditions.\n",
        "  some important logical operators-\n",
        "  1.'and'- it returns true if both operands are true,otherwise returns false."
      ],
      "metadata": {
        "id": "sFeGEG6e8VCr"
      }
    },
    {
      "cell_type": "code",
      "source": [
        "a=True\n",
        "b=False\n",
        "print(a and b)"
      ],
      "metadata": {
        "colab": {
          "base_uri": "https://localhost:8080/"
        },
        "id": "HcvrTsJZ-TsE",
        "outputId": "261f2d58-0865-4a54-a364-024a26465660"
      },
      "execution_count": null,
      "outputs": [
        {
          "output_type": "stream",
          "name": "stdout",
          "text": [
            "False\n"
          ]
        }
      ]
    },
    {
      "cell_type": "markdown",
      "source": [
        "2.'or'- it returns true if at least one of the operands is True,otherwise returns False."
      ],
      "metadata": {
        "id": "bEspN6yH-dNK"
      }
    },
    {
      "cell_type": "code",
      "source": [
        "a=True\n",
        "b=False\n",
        "print(a or b)"
      ],
      "metadata": {
        "colab": {
          "base_uri": "https://localhost:8080/"
        },
        "id": "visq266b-zwG",
        "outputId": "f7c7764f-9668-4f1b-c5d3-a9e1860f5ae3"
      },
      "execution_count": null,
      "outputs": [
        {
          "output_type": "stream",
          "name": "stdout",
          "text": [
            "True\n"
          ]
        }
      ]
    },
    {
      "cell_type": "markdown",
      "source": [
        "3.'not'-it's main purpose to reverse the logical state of the operand.If the operand is True, it returns False. if the operands is False, it returns True."
      ],
      "metadata": {
        "id": "opUZSqMU-9o8"
      }
    },
    {
      "cell_type": "code",
      "source": [
        "a= True"
      ],
      "metadata": {
        "id": "hYQVVwHc_jN7"
      },
      "execution_count": null,
      "outputs": []
    },
    {
      "cell_type": "markdown",
      "source": [
        "# What is type casting in Python?\n",
        "  -type casting is the process of changing one data type to another in python.type casting is necessory for performing arithmetic operations,data maniputlations and input/output operations in python programs. python provides built-in functions for type casting,such as- int(),float(),str(),list(),tuple(),dict() etc.\n",
        "# What is the difference between implicit and explicit type casting?\n",
        "  -Implicit type casting:In python,The compiler or interpreter automatically converts one data type to another without explicit instruction from the programer.\n",
        "  for ex-"
      ],
      "metadata": {
        "id": "9pEesBBBARie"
      }
    },
    {
      "cell_type": "code",
      "source": [
        "a=7\n",
        "b=4.2\n",
        "print(a+b)"
      ],
      "metadata": {
        "colab": {
          "base_uri": "https://localhost:8080/"
        },
        "id": "l8lmT4cyE1Ad",
        "outputId": "5a883759-091b-4400-a3e1-253c02fbe719"
      },
      "execution_count": null,
      "outputs": [
        {
          "output_type": "stream",
          "name": "stdout",
          "text": [
            "11.2\n"
          ]
        }
      ]
    },
    {
      "cell_type": "markdown",
      "source": [
        "Explicit type casting:-In explicit type casting,the programmer explicitly instructs the compiler to convert one data type to another using built in functions."
      ],
      "metadata": {
        "id": "PTv_AC94GSiV"
      }
    },
    {
      "cell_type": "code",
      "source": [
        "a=\"13\"\n",
        "a=int(a)\n",
        "print(a)"
      ],
      "metadata": {
        "colab": {
          "base_uri": "https://localhost:8080/"
        },
        "id": "mzz00JNCHJUa",
        "outputId": "f4cf2099-bc18-4129-f527-7ce4b0cc5e9e"
      },
      "execution_count": null,
      "outputs": [
        {
          "output_type": "stream",
          "name": "stdout",
          "text": [
            "13\n"
          ]
        }
      ]
    },
    {
      "cell_type": "markdown",
      "source": [],
      "metadata": {
        "id": "ZWQ5cVNVbg7b"
      }
    },
    {
      "cell_type": "markdown",
      "source": [
        "# What is the purpose of conditional statements in Python?\n",
        "  - Conditionals in Python are used to execute code based on the evaluation of one or more conditions.conditional statements in python,like if,if,elif,and else,are fundamental control flow mechanisms.\n",
        "# How does the elif statement work?\n",
        "  - The elif statement in python is used to cheak for multiple conditions sequentially.for example-\n"
      ],
      "metadata": {
        "id": "n1E1NMWmy-cs"
      }
    },
    {
      "cell_type": "code",
      "source": [
        "score = 87\n",
        "if score >= 90:\n",
        "    print(\"Grade: A\")\n",
        "elif score >= 80:\n",
        "    print(\"Grade: B\")\n",
        "elif score >= 70:\n",
        "    print(\"Grade: C\")\n",
        "else:\n",
        "    print(\"Grade: D\")"
      ],
      "metadata": {
        "colab": {
          "base_uri": "https://localhost:8080/"
        },
        "id": "YxL5tmRP2oXt",
        "outputId": "9c5b63fa-6a17-4920-b879-c500a6a1fd1d"
      },
      "execution_count": null,
      "outputs": [
        {
          "output_type": "stream",
          "name": "stdout",
          "text": [
            "Grade: B\n"
          ]
        }
      ]
    },
    {
      "cell_type": "markdown",
      "source": [
        "# What is the difference between for and while loops?\n",
        "  - Loops:loops are employed to repeat a sequence of actions or code until a specific condition is\n",
        "fulfilled.\n",
        "  -for loop: for loop primarily used to iterate over a sequence of elements or a range of numbers.\n",
        "  example-"
      ],
      "metadata": {
        "id": "KZw3Y47W2_y9"
      }
    },
    {
      "cell_type": "code",
      "source": [
        "a = \"computer\"\n",
        "for i in a:\n",
        "    print(i)"
      ],
      "metadata": {
        "colab": {
          "base_uri": "https://localhost:8080/"
        },
        "id": "QUHTtu5i5DjM",
        "outputId": "a44fa363-7667-4eff-e2ee-2b2c026879f6"
      },
      "execution_count": null,
      "outputs": [
        {
          "output_type": "stream",
          "name": "stdout",
          "text": [
            "c\n",
            "o\n",
            "m\n",
            "p\n",
            "u\n",
            "t\n",
            "e\n",
            "r\n"
          ]
        }
      ]
    },
    {
      "cell_type": "markdown",
      "source": [
        "  -while loop: it repeateadly execute a block of code as long as a given condition remains true."
      ],
      "metadata": {
        "id": "-LG3PY3T5VXo"
      }
    },
    {
      "cell_type": "code",
      "source": [
        "n = 9\n",
        "i = 1\n",
        "while i <= n:\n",
        "    print(i)\n",
        "    i += 1\n"
      ],
      "metadata": {
        "colab": {
          "base_uri": "https://localhost:8080/"
        },
        "id": "D6AD_n5tPwJs",
        "outputId": "2e992433-0c05-443e-d1d0-94324d0635ce"
      },
      "execution_count": null,
      "outputs": [
        {
          "output_type": "stream",
          "name": "stdout",
          "text": [
            "1\n",
            "2\n",
            "3\n",
            "4\n",
            "5\n",
            "6\n",
            "7\n",
            "8\n",
            "9\n"
          ]
        }
      ]
    },
    {
      "cell_type": "markdown",
      "source": [
        "# Describe a scenario where a while loop is more suitable than a for loop.\n",
        "  -Reasons why \"while loop\" is more suitable than for loop-\n",
        "  1.unknown number of iterations- the loop continues untill the user provides a valid age.\n",
        "  2.condition-based execution- The loop's continuation depends on the condition age <=0,"
      ],
      "metadata": {
        "id": "jz35QetJRFng"
      }
    },
    {
      "cell_type": "code",
      "source": [
        "age = 0\n",
        "while age<= 0:\n",
        "  try:\n",
        "    age = int(input(\"Enter your age: \"))\n",
        "  except ValueError:\n",
        "    print(\"Invalid input. Please enter a valid age.\")"
      ],
      "metadata": {
        "colab": {
          "base_uri": "https://localhost:8080/",
          "height": 356
        },
        "collapsed": true,
        "id": "uFmxdr1QTq--",
        "outputId": "0223375f-d5c4-495c-cf14-45c9454d7980"
      },
      "execution_count": null,
      "outputs": [
        {
          "output_type": "error",
          "ename": "KeyboardInterrupt",
          "evalue": "Interrupted by user",
          "traceback": [
            "\u001b[0;31m---------------------------------------------------------------------------\u001b[0m",
            "\u001b[0;31mKeyboardInterrupt\u001b[0m                         Traceback (most recent call last)",
            "\u001b[0;32m<ipython-input-5-807253d6d9ff>\u001b[0m in \u001b[0;36m<cell line: 2>\u001b[0;34m()\u001b[0m\n\u001b[1;32m      2\u001b[0m \u001b[0;32mwhile\u001b[0m \u001b[0mage\u001b[0m\u001b[0;34m<=\u001b[0m \u001b[0;36m0\u001b[0m\u001b[0;34m:\u001b[0m\u001b[0;34m\u001b[0m\u001b[0;34m\u001b[0m\u001b[0m\n\u001b[1;32m      3\u001b[0m   \u001b[0;32mtry\u001b[0m\u001b[0;34m:\u001b[0m\u001b[0;34m\u001b[0m\u001b[0;34m\u001b[0m\u001b[0m\n\u001b[0;32m----> 4\u001b[0;31m     \u001b[0mage\u001b[0m \u001b[0;34m=\u001b[0m \u001b[0mint\u001b[0m\u001b[0;34m(\u001b[0m\u001b[0minput\u001b[0m\u001b[0;34m(\u001b[0m\u001b[0;34m\"Enter your age: \"\u001b[0m\u001b[0;34m)\u001b[0m\u001b[0;34m)\u001b[0m\u001b[0;34m\u001b[0m\u001b[0;34m\u001b[0m\u001b[0m\n\u001b[0m\u001b[1;32m      5\u001b[0m   \u001b[0;32mexcept\u001b[0m \u001b[0mValueError\u001b[0m\u001b[0;34m:\u001b[0m\u001b[0;34m\u001b[0m\u001b[0;34m\u001b[0m\u001b[0m\n\u001b[1;32m      6\u001b[0m     \u001b[0mprint\u001b[0m\u001b[0;34m(\u001b[0m\u001b[0;34m\"Invalid input. Please enter a valid age.\"\u001b[0m\u001b[0;34m)\u001b[0m\u001b[0;34m\u001b[0m\u001b[0;34m\u001b[0m\u001b[0m\n",
            "\u001b[0;32m/usr/local/lib/python3.10/dist-packages/ipykernel/kernelbase.py\u001b[0m in \u001b[0;36mraw_input\u001b[0;34m(self, prompt)\u001b[0m\n\u001b[1;32m    849\u001b[0m                 \u001b[0;34m\"raw_input was called, but this frontend does not support input requests.\"\u001b[0m\u001b[0;34m\u001b[0m\u001b[0;34m\u001b[0m\u001b[0m\n\u001b[1;32m    850\u001b[0m             )\n\u001b[0;32m--> 851\u001b[0;31m         return self._input_request(str(prompt),\n\u001b[0m\u001b[1;32m    852\u001b[0m             \u001b[0mself\u001b[0m\u001b[0;34m.\u001b[0m\u001b[0m_parent_ident\u001b[0m\u001b[0;34m,\u001b[0m\u001b[0;34m\u001b[0m\u001b[0;34m\u001b[0m\u001b[0m\n\u001b[1;32m    853\u001b[0m             \u001b[0mself\u001b[0m\u001b[0;34m.\u001b[0m\u001b[0m_parent_header\u001b[0m\u001b[0;34m,\u001b[0m\u001b[0;34m\u001b[0m\u001b[0;34m\u001b[0m\u001b[0m\n",
            "\u001b[0;32m/usr/local/lib/python3.10/dist-packages/ipykernel/kernelbase.py\u001b[0m in \u001b[0;36m_input_request\u001b[0;34m(self, prompt, ident, parent, password)\u001b[0m\n\u001b[1;32m    893\u001b[0m             \u001b[0;32mexcept\u001b[0m \u001b[0mKeyboardInterrupt\u001b[0m\u001b[0;34m:\u001b[0m\u001b[0;34m\u001b[0m\u001b[0;34m\u001b[0m\u001b[0m\n\u001b[1;32m    894\u001b[0m                 \u001b[0;31m# re-raise KeyboardInterrupt, to truncate traceback\u001b[0m\u001b[0;34m\u001b[0m\u001b[0;34m\u001b[0m\u001b[0m\n\u001b[0;32m--> 895\u001b[0;31m                 \u001b[0;32mraise\u001b[0m \u001b[0mKeyboardInterrupt\u001b[0m\u001b[0;34m(\u001b[0m\u001b[0;34m\"Interrupted by user\"\u001b[0m\u001b[0;34m)\u001b[0m \u001b[0;32mfrom\u001b[0m \u001b[0;32mNone\u001b[0m\u001b[0;34m\u001b[0m\u001b[0;34m\u001b[0m\u001b[0m\n\u001b[0m\u001b[1;32m    896\u001b[0m             \u001b[0;32mexcept\u001b[0m \u001b[0mException\u001b[0m \u001b[0;32mas\u001b[0m \u001b[0me\u001b[0m\u001b[0;34m:\u001b[0m\u001b[0;34m\u001b[0m\u001b[0;34m\u001b[0m\u001b[0m\n\u001b[1;32m    897\u001b[0m                 \u001b[0mself\u001b[0m\u001b[0;34m.\u001b[0m\u001b[0mlog\u001b[0m\u001b[0;34m.\u001b[0m\u001b[0mwarning\u001b[0m\u001b[0;34m(\u001b[0m\u001b[0;34m\"Invalid Message:\"\u001b[0m\u001b[0;34m,\u001b[0m \u001b[0mexc_info\u001b[0m\u001b[0;34m=\u001b[0m\u001b[0;32mTrue\u001b[0m\u001b[0;34m)\u001b[0m\u001b[0;34m\u001b[0m\u001b[0;34m\u001b[0m\u001b[0m\n",
            "\u001b[0;31mKeyboardInterrupt\u001b[0m: Interrupted by user"
          ]
        }
      ]
    },
    {
      "cell_type": "markdown",
      "source": [
        "# Practical Questions\n",
        "# Write a Python program to print \"Hello, World!\"\n",
        "  -"
      ],
      "metadata": {
        "id": "xFAT_EEJUmtJ"
      }
    },
    {
      "cell_type": "code",
      "source": [
        "a=\"Hello, World!\"\n",
        "print(a)"
      ],
      "metadata": {
        "colab": {
          "base_uri": "https://localhost:8080/"
        },
        "id": "DXxRrYxpVDni",
        "outputId": "2eedc57e-af0d-4e68-ab52-bae3cb344faf"
      },
      "execution_count": null,
      "outputs": [
        {
          "output_type": "stream",
          "name": "stdout",
          "text": [
            "Hello, World!\n"
          ]
        }
      ]
    },
    {
      "cell_type": "markdown",
      "source": [
        "# Write a Python program that displays your name and age.\n",
        "  -"
      ],
      "metadata": {
        "id": "CmqPcntrVieB"
      }
    },
    {
      "cell_type": "code",
      "source": [
        "name = \"Mahima Singh\"\n",
        "age = 23\n",
        "print(\"Name:\", name)\n",
        "print(\"Age:\", age)"
      ],
      "metadata": {
        "colab": {
          "base_uri": "https://localhost:8080/"
        },
        "id": "Y90YmcCXVudz",
        "outputId": "125dc6ae-7eef-4a5d-cf07-d82dbbeacd57"
      },
      "execution_count": null,
      "outputs": [
        {
          "output_type": "stream",
          "name": "stdout",
          "text": [
            "Name: Mahima Singh\n",
            "Age: 23\n"
          ]
        }
      ]
    },
    {
      "cell_type": "markdown",
      "source": [
        "# Write code to print all the pre-defined keywords in Python using the keyword library.\n"
      ],
      "metadata": {
        "id": "LD-B5Zj3XEsI"
      }
    },
    {
      "cell_type": "code",
      "source": [
        "print (\"list of python keywords\")\n",
        "import keyword\n",
        "print(keyword.kwlist)"
      ],
      "metadata": {
        "colab": {
          "base_uri": "https://localhost:8080/"
        },
        "collapsed": true,
        "id": "J-sVDs8lXcUw",
        "outputId": "dcae1953-a33e-41f6-9d2e-7f80cdb3fa4a"
      },
      "execution_count": null,
      "outputs": [
        {
          "output_type": "stream",
          "name": "stdout",
          "text": [
            "list of python keywords\n",
            "['False', 'None', 'True', 'and', 'as', 'assert', 'async', 'await', 'break', 'class', 'continue', 'def', 'del', 'elif', 'else', 'except', 'finally', 'for', 'from', 'global', 'if', 'import', 'in', 'is', 'lambda', 'nonlocal', 'not', 'or', 'pass', 'raise', 'return', 'try', 'while', 'with', 'yield']\n"
          ]
        }
      ]
    },
    {
      "cell_type": "markdown",
      "source": [
        "# Write a program that checks if a given word is a Python keyword."
      ],
      "metadata": {
        "id": "ZiVs_sCxYRys"
      }
    },
    {
      "cell_type": "code",
      "source": [
        "import keyword\n",
        "\n",
        "a = 'while'\n",
        "\n",
        "# Check if it's a Python keyword\n",
        "if keyword.iskeyword(a):\n",
        "    print(f\"'{a}' is a Python keyword.\")\n",
        "else:\n",
        "    print(f\"'{a}' is not a Python keyword.\")"
      ],
      "metadata": {
        "colab": {
          "base_uri": "https://localhost:8080/"
        },
        "id": "4c1RuPuJGjtw",
        "outputId": "26502d06-7dbd-40f4-88af-2bfa19aeaf3e"
      },
      "execution_count": null,
      "outputs": [
        {
          "output_type": "stream",
          "name": "stdout",
          "text": [
            "'while' is a Python keyword.\n"
          ]
        }
      ]
    },
    {
      "cell_type": "markdown",
      "source": [
        "# Create a list and tuple in Python, and demonstrate how attempting to change an element works differently.\n"
      ],
      "metadata": {
        "id": "BNWNw2pFa9GJ"
      }
    },
    {
      "cell_type": "code",
      "source": [
        "my_list = [1, 2, 3]\n",
        "my_list[0] = 10\n",
        "print(\"Modified list:\", my_list)"
      ],
      "metadata": {
        "colab": {
          "base_uri": "https://localhost:8080/"
        },
        "id": "x2EUpt6bOYaJ",
        "outputId": "afa6b772-fd97-4e73-affc-17d156d9f0b2"
      },
      "execution_count": null,
      "outputs": [
        {
          "output_type": "stream",
          "name": "stdout",
          "text": [
            "Modified list: [10, 2, 3]\n"
          ]
        }
      ]
    },
    {
      "cell_type": "code",
      "source": [
        "my_tuple = (1, 2, 3)\n",
        "try:\n",
        "    my_tuple[0] = 10\n",
        "except TypeError as e:\n",
        "    print(\"Error:\", e)\n",
        "except typeError as e: # This line is redundant as 'TypeError' is already handled\n",
        "    print(\"Error:\", e)"
      ],
      "metadata": {
        "colab": {
          "base_uri": "https://localhost:8080/"
        },
        "id": "lsnMRc7lOkiH",
        "outputId": "e5293af0-f002-40c2-9031-a9fae92cf0ed"
      },
      "execution_count": null,
      "outputs": [
        {
          "output_type": "stream",
          "name": "stdout",
          "text": [
            "Error: 'tuple' object does not support item assignment\n"
          ]
        }
      ]
    },
    {
      "cell_type": "markdown",
      "source": [
        "# Write a function to demonstrate the behavior of mutable and immutable arguments?"
      ],
      "metadata": {
        "id": "Khe0fe8JfRto"
      }
    },
    {
      "cell_type": "code",
      "source": [
        "def demonstrate_mutability(a_list, an_int):\n",
        "    \"\"\"\n",
        "    This function demonstrates the behavior of mutable and immutable arguments.\n",
        "    \"\"\"\n",
        "    a_list[0] = 100  # Modifies the list in-place\n",
        "    an_int = 200  # Reassigns the integer within the function scope\n",
        "    print(\"Inside function call:\")\n",
        "    print(\"a_list:\", a_list)\n",
        "    print(\"an_int:\", an_int)\n",
        "\n",
        "my_list = [4, 2, 3]\n",
        "my_int = 10\n",
        "\n",
        "print(\"Before function call:\")\n",
        "print(\"My list:\", my_list)\n",
        "print(\"My integer:\", my_int)\n",
        "\n",
        "demonstrate_mutability(my_list, my_int)\n",
        "\n",
        "print(\"After function call:\")\n",
        "print(\"My list:\", my_list) # The original list is modified\n",
        "print(\"My integer:\", my_int) # The original integer remains unchanged"
      ],
      "metadata": {
        "colab": {
          "base_uri": "https://localhost:8080/"
        },
        "collapsed": true,
        "id": "hdxglrsYpXoz",
        "outputId": "05f1773e-1ed4-4224-cdde-f483a55e1f77"
      },
      "execution_count": null,
      "outputs": [
        {
          "output_type": "stream",
          "name": "stdout",
          "text": [
            "Before function call:\n",
            "My list: [4, 2, 3]\n",
            "My integer: 10\n",
            "Inside function call:\n",
            "a_list: [100, 2, 3]\n",
            "an_int: 200\n",
            "After function call:\n",
            "My list: [100, 2, 3]\n",
            "My integer: 10\n"
          ]
        }
      ]
    },
    {
      "cell_type": "markdown",
      "source": [
        "# Write a program to demonstrate the use of logical operators."
      ],
      "metadata": {
        "id": "6CGWZEqZpsgb"
      }
    },
    {
      "cell_type": "code",
      "source": [
        "a = True\n",
        "b = False\n",
        "print(\"a and b:\", a and b)\n",
        "print(\"a or b:\", a or b)\n",
        "print(\"not a:\", not a)"
      ],
      "metadata": {
        "colab": {
          "base_uri": "https://localhost:8080/"
        },
        "id": "KsiHVNgcqM_B",
        "outputId": "9bffa060-bfa3-44ee-f157-c25f223fd9ad"
      },
      "execution_count": null,
      "outputs": [
        {
          "output_type": "stream",
          "name": "stdout",
          "text": [
            "a and b: False\n",
            "a or b: True\n",
            "not a: False\n"
          ]
        }
      ]
    },
    {
      "cell_type": "markdown",
      "source": [
        "# Write a Python program to convert user input from string to integer, float, and boolean types."
      ],
      "metadata": {
        "id": "YhRHYpGjql4V"
      }
    },
    {
      "cell_type": "code",
      "source": [
        "# string to integer\n",
        "a =\"9\"\n",
        "b = 7\n",
        "int9 = int(a) + b\n",
        "print(int9)"
      ],
      "metadata": {
        "colab": {
          "base_uri": "https://localhost:8080/"
        },
        "id": "gk_mIqEOqpbu",
        "outputId": "b686e14e-5cda-4212-bac8-46bcd165ebbd"
      },
      "execution_count": null,
      "outputs": [
        {
          "output_type": "stream",
          "name": "stdout",
          "text": [
            "16\n"
          ]
        }
      ]
    },
    {
      "cell_type": "code",
      "source": [
        "# string to float\n",
        "a = \"31.41\"\n",
        "b = 2.5\n",
        "float9 = float(a) + b\n",
        "print(float9)"
      ],
      "metadata": {
        "colab": {
          "base_uri": "https://localhost:8080/"
        },
        "id": "O2kgeIM7sfW5",
        "outputId": "71c65728-eaf9-481c-e76d-235f682dade3"
      },
      "execution_count": null,
      "outputs": [
        {
          "output_type": "stream",
          "name": "stdout",
          "text": [
            "33.91\n"
          ]
        }
      ]
    },
    {
      "cell_type": "code",
      "source": [
        "# string to boolean\n",
        "a = \"True\"\n",
        "b = False\n",
        "bool9 = bool(a) or b\n",
        "print(bool9)"
      ],
      "metadata": {
        "id": "sDAJWRjas_dE",
        "colab": {
          "base_uri": "https://localhost:8080/"
        },
        "outputId": "3036c44e-3241-48f3-e75b-35714d660ee7"
      },
      "execution_count": null,
      "outputs": [
        {
          "output_type": "stream",
          "name": "stdout",
          "text": [
            "True\n"
          ]
        }
      ]
    },
    {
      "cell_type": "markdown",
      "source": [
        "# Write code to demonstrate type casting with list elements."
      ],
      "metadata": {
        "id": "kTviOTn9wkXl"
      }
    },
    {
      "cell_type": "code",
      "source": [
        "a = [2, 3, 4]\n",
        "b = [5, 6, 7]\n",
        "c = a + b\n",
        "print(c)"
      ],
      "metadata": {
        "colab": {
          "base_uri": "https://localhost:8080/"
        },
        "id": "emNukv_QwuOl",
        "outputId": "16d1574c-960e-44e5-a054-afdfd4df687b"
      },
      "execution_count": null,
      "outputs": [
        {
          "output_type": "stream",
          "name": "stdout",
          "text": [
            "[2, 3, 4, 5, 6, 7]\n"
          ]
        }
      ]
    },
    {
      "cell_type": "code",
      "source": [
        "a = \"Bharat in \"\n",
        "b = \"2030\"\n",
        "c = a + b\n",
        "print(c)"
      ],
      "metadata": {
        "colab": {
          "base_uri": "https://localhost:8080/"
        },
        "id": "4XLe-FYwy8zY",
        "outputId": "93de4641-c0d0-488a-e4be-50740ccee55a"
      },
      "execution_count": null,
      "outputs": [
        {
          "output_type": "stream",
          "name": "stdout",
          "text": [
            "Bharat in 2030\n"
          ]
        }
      ]
    },
    {
      "cell_type": "markdown",
      "source": [
        "# Write a program that checks if a number is positive, negative, or zero."
      ],
      "metadata": {
        "id": "HyJS2VYezZm9"
      }
    },
    {
      "cell_type": "code",
      "source": [
        "num = float(input(\"Enter a number: \"))\n",
        "if num > 0:\n",
        "   print(\"Positive number\")\n",
        "elif num == 0:\n",
        "   print(\"Zero\")\n",
        "else:\n",
        "   print(\"Negative number\")\n"
      ],
      "metadata": {
        "colab": {
          "base_uri": "https://localhost:8080/"
        },
        "id": "pvnKgnR10FK5",
        "outputId": "1f61b5e1-968d-43bf-dd81-fd2606c2c6d6"
      },
      "execution_count": null,
      "outputs": [
        {
          "output_type": "stream",
          "name": "stdout",
          "text": [
            "Enter a number: 5\n",
            "Positive number\n"
          ]
        }
      ]
    },
    {
      "cell_type": "markdown",
      "source": [
        "#  Write a for loop to print numbers from 1 to 10."
      ],
      "metadata": {
        "id": "D36ESpRg0dx5"
      }
    },
    {
      "cell_type": "code",
      "source": [
        "print('Numbers from 1 to 10:')\n",
        "for n in range(1, 11):\n",
        "   print(n, end=' ')"
      ],
      "metadata": {
        "colab": {
          "base_uri": "https://localhost:8080/"
        },
        "id": "0OhtFm3E1HLJ",
        "outputId": "9d640517-e52b-4248-cfab-4fb639199b5f"
      },
      "execution_count": null,
      "outputs": [
        {
          "output_type": "stream",
          "name": "stdout",
          "text": [
            "Numbers from 1 to 10:\n",
            "1 2 3 4 5 6 7 8 9 10 "
          ]
        }
      ]
    },
    {
      "cell_type": "markdown",
      "source": [
        "# Write a Python program to find the sum of all even numbers between 1 and 50."
      ],
      "metadata": {
        "id": "vojEXqAE1sps"
      }
    },
    {
      "cell_type": "code",
      "source": [
        "numbers = int(input(\"Enter a number: \"))\n",
        "\n",
        "sum = 0\n",
        "\n",
        "for number in range(0, numbers):\n",
        "    if number % 2 == 0:\n",
        "        print(number)\n",
        "        sum = sum + number\n",
        "\n",
        "print(\"The sum of total even numbers are:\", sum)\n"
      ],
      "metadata": {
        "colab": {
          "base_uri": "https://localhost:8080/"
        },
        "collapsed": true,
        "id": "G5-6d-vm9aKT",
        "outputId": "ab5e7d70-a7d5-470b-accc-40461d20775b"
      },
      "execution_count": null,
      "outputs": [
        {
          "output_type": "stream",
          "name": "stdout",
          "text": [
            "Enter a number: 50\n",
            "0\n",
            "2\n",
            "4\n",
            "6\n",
            "8\n",
            "10\n",
            "12\n",
            "14\n",
            "16\n",
            "18\n",
            "20\n",
            "22\n",
            "24\n",
            "26\n",
            "28\n",
            "30\n",
            "32\n",
            "34\n",
            "36\n",
            "38\n",
            "40\n",
            "42\n",
            "44\n",
            "46\n",
            "48\n",
            "The sum of total even numbers are: 600\n"
          ]
        }
      ]
    },
    {
      "cell_type": "markdown",
      "source": [
        "# Write a program to reverse a string using a while loop."
      ],
      "metadata": {
        "id": "vMlPTFvL2_Ue"
      }
    },
    {
      "cell_type": "code",
      "source": [
        "def reverse_string_while(input_string):\n",
        "    \"\"\"Reverses a string using a while loop.\"\"\"\n",
        "    reversed_string = ''\n",
        "    index = len(input_string) - 1\n",
        "    while index >= 0:\n",
        "        reversed_string += input_string[index]\n",
        "        index -= 1\n",
        "    return reversed_string\n",
        "\n",
        "string_to_reverse = \"Mahima singh\"\n",
        "reversed_string = reverse_string_while(string_to_reverse)\n",
        "print(f\"Reversed string: {reversed_string}\")"
      ],
      "metadata": {
        "colab": {
          "base_uri": "https://localhost:8080/"
        },
        "id": "F5hl3rQEMCqd",
        "outputId": "e3b46766-e13a-4c01-c691-c2841a602443"
      },
      "execution_count": null,
      "outputs": [
        {
          "output_type": "stream",
          "name": "stdout",
          "text": [
            "Reversed string: hgnis amihaM\n"
          ]
        }
      ]
    },
    {
      "cell_type": "markdown",
      "source": [
        "# Write a Python program to calculate the factorial of a number provided by the user using a while loop."
      ],
      "metadata": {
        "id": "-ISUw19x6opz"
      }
    },
    {
      "cell_type": "code",
      "source": [
        "\n",
        "\n",
        "def factorial_while(n):\n",
        "    \"\"\"Calculates the factorial of a non-negative integer using a while loop.\"\"\"\n",
        "    if n < 0:\n",
        "        return \"Factorial is not defined for negative numbers.\"\n",
        "    elif n == 0:\n",
        "        return 1\n",
        "    else:\n",
        "        factorial = 1\n",
        "        i = 1\n",
        "        while i <= n:\n",
        "            factorial *= i\n",
        "            i += 1\n",
        "        return factorial\n",
        "\n",
        "try:\n",
        "    num = int(input(\"Enter a non-negative integer: \"))\n",
        "    result = factorial_while(num)\n",
        "    print(f\"The factorial of {num} is {result}\")\n",
        "except ValueError:\n",
        "    print(\"Invalid input. Please enter an integer.\")\n"
      ],
      "metadata": {
        "colab": {
          "base_uri": "https://localhost:8080/"
        },
        "collapsed": true,
        "id": "yMix_7Qw6xvm",
        "outputId": "03ecc44e-72f5-46f5-e986-1f0c08235a2c"
      },
      "execution_count": 42,
      "outputs": [
        {
          "output_type": "stream",
          "name": "stdout",
          "text": [
            "Enter a non-negative integer: 10\n",
            "The factorial of 10 is 3628800\n"
          ]
        }
      ]
    },
    {
      "cell_type": "code",
      "source": [
        "def factorial(n):\n",
        "  \"\"\"\n",
        "  this function calculates the factorial of a given number\n",
        "  Args:\n",
        "    n:the number for which to calculate the factorial.\n",
        "  Returns:\n",
        "    the factorial of n.\n",
        "  \"\"\"\n",
        "  if n==0:\n",
        "    return 1\n",
        "  else:\n",
        "    return n* factorial(n-1)"
      ],
      "metadata": {
        "id": "oL2QSw3zcth9"
      },
      "execution_count": null,
      "outputs": []
    }
  ]
}